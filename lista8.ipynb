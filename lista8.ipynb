{
  "nbformat": 4,
  "nbformat_minor": 0,
  "metadata": {
    "colab": {
      "name": "lista8.ipynb",
      "provenance": []
    },
    "kernelspec": {
      "name": "python3",
      "display_name": "Python 3"
    },
    "language_info": {
      "name": "python"
    }
  },
  "cells": [
    {
      "cell_type": "code",
      "metadata": {
        "colab": {
          "base_uri": "https://localhost:8080/"
        },
        "id": "iFbvZXyttRzc",
        "outputId": "046e259f-91b0-4656-e3a6-f9212a8b690a"
      },
      "source": [
        "import random\n",
        "\n",
        "def escolhe(matricula):\n",
        "    random.seed(matricula)\n",
        "    cap1 = (2,8,9,11,12,15,16,18,20,21,22,24,26,27,28,30,31,32)    \n",
        "    cap2 = (36,40,44,45,46,48,50,51,53,55,56,57,59,60)\n",
        "    cap3 = (63,64,65,68,71,72,74,76,78,80,81,84)\n",
        "    cap4 = (85,86,87,89,91,92,94,97,99,101,103,104,106)\n",
        "    cap5 = (111,115,117,118,119,122,123,124,126,127,131,132,133)\n",
        "    cap6 = (138,139,140,141,144,147,148)\n",
        "    cap7 = (152,153,154,155,157,160,161,164,165,166,168,171,172)\n",
        "    cap8 = (174,175,176,177,179,181,182,185)\n",
        "    return(random.sample(cap8, k=2))\n",
        "\n",
        "print(\"Você deverá entregar os exercícios: \", escolhe(input(\"Escreva o número de sua matricula\")))"
      ],
      "execution_count": null,
      "outputs": [
        {
          "output_type": "stream",
          "text": [
            "Escreva o número de sua matricula190026570\n",
            "Você deverá entregar os exercícios:  [175, 177]\n"
          ],
          "name": "stdout"
        }
      ]
    },
    {
      "cell_type": "markdown",
      "metadata": {
        "id": "HyVImbSBteC7"
      },
      "source": [
        "Exercise 175: Recursive Decimal to Binary"
      ]
    },
    {
      "cell_type": "code",
      "metadata": {
        "colab": {
          "base_uri": "https://localhost:8080/",
          "height": 35
        },
        "id": "3oMjk_outekq",
        "outputId": "67aefaae-de79-4a34-cf68-4cf031efa083"
      },
      "source": [
        "def binary(num, lista_num = []):\n",
        " if num>0:    \n",
        "    lista_num.append(num%2)\n",
        "    return binary(num//2)\n",
        " else:\n",
        "    return ''.join(map(str,lista_num[::-1]))\n",
        "\n",
        "\n",
        "binary(16)"
      ],
      "execution_count": null,
      "outputs": [
        {
          "output_type": "execute_result",
          "data": {
            "application/vnd.google.colaboratory.intrinsic+json": {
              "type": "string"
            },
            "text/plain": [
              "'10000'"
            ]
          },
          "metadata": {
            "tags": []
          },
          "execution_count": 16
        }
      ]
    },
    {
      "cell_type": "markdown",
      "metadata": {
        "id": "tJhvZ7h0tewi"
      },
      "source": [
        "Exercise 177: Roman Numerals"
      ]
    },
    {
      "cell_type": "code",
      "metadata": {
        "colab": {
          "base_uri": "https://localhost:8080/"
        },
        "id": "c8sz6iDRtfCC",
        "outputId": "f04d4fc0-5f88-4981-b8c1-c5c31150c135"
      },
      "source": [
        "romam_numbers = {\"\": 0, \"M\": 1000, \"D\": 500, \"C\": 100, \"L\": 50, \"X\": 10, \"V\": 5, \"I\": 1}\n",
        "\n",
        "def roman(s):\n",
        "   \n",
        "   \n",
        "    if s in romam_numbers:\n",
        "         return romam_numbers[s]\n",
        "\n",
        "    first, second = map(roman, s[:2])\n",
        "    if first < second:\n",
        "        return second - first + roman(s[2:])\n",
        "    else:\n",
        "        return first + roman(s[1:])\n",
        "\n",
        "roman(\"MMXXI\")"
      ],
      "execution_count": null,
      "outputs": [
        {
          "output_type": "execute_result",
          "data": {
            "text/plain": [
              "2021"
            ]
          },
          "metadata": {
            "tags": []
          },
          "execution_count": 33
        }
      ]
    }
  ]
}